{
 "cells": [
  {
   "cell_type": "markdown",
   "metadata": {},
   "source": [
    "# mohammad zain ul abdeen  lab 7"
   ]
  },
  {
   "cell_type": "code",
   "execution_count": 1,
   "metadata": {},
   "outputs": [
    {
     "name": "stdout",
     "output_type": "stream",
     "text": [
      "total lines : 0\n",
      "the total characters :  14\n",
      "total words :  3\n"
     ]
    }
   ],
   "source": [
    "def stats(a):\n",
    "    'return the number of characters in the txt'\n",
    "    infile = open('zain.txt','r')\n",
    "    content = infile.read()\n",
    "    lines  = infile.readlines()\n",
    "    print(\"total lines :\",len(lines))\n",
    "    print(\"the total characters : \",len(content))\n",
    "    words = content.split()\n",
    "    print(\"total words : \",len(words))\n",
    "    infile.close()\n",
    "stats('zain.txt')"
   ]
  },
  {
   "cell_type": "code",
   "execution_count": 17,
   "metadata": {},
   "outputs": [
    {
     "name": "stdout",
     "output_type": "stream",
     "text": [
      "13 \n",
      "STUDENTS GOT A 12 \n",
      "STUDENTS GOT B  4 \n",
      "STUDENTS GOT C+  9 \n",
      "students got F\n"
     ]
    }
   ],
   "source": [
    "def distribution(x):\n",
    "    infile = open('GRD.txt','r')\n",
    "    content = infile.read()\n",
    "    grades = content.split()\n",
    "    grades.count('A')\n",
    "    grades.count('B')\n",
    "    grades.count('C+')\n",
    "    grades.count('F')\n",
    "    print(grades.count('A'),\"\\nSTUDENTS GOT A\",grades.count('B'),\"\\nSTUDENTS GOT B \" ,grades.count('C+'),\"\\nSTUDENTS GOT C+ \" ,grades.count('F'),\"\\nstudents got F\")\n",
    "distribution('GRD.txt')    "
   ]
  },
  {
   "cell_type": "code",
   "execution_count": 22,
   "metadata": {},
   "outputs": [
    {
     "data": {
      "text/plain": [
       "True"
      ]
     },
     "execution_count": 22,
     "metadata": {},
     "output_type": "execute_result"
    }
   ],
   "source": [
    "def duplicate(x):\n",
    "    infile = open('band.txt','r')\n",
    "    content = infile.read()\n",
    "    content.split()\n",
    "    for i in content:\n",
    "        if content.count(i)>1:\n",
    "            return True\n",
    "        else:\n",
    "            return False\n",
    "duplicate('band.txt')"
   ]
  },
  {
   "cell_type": "code",
   "execution_count": 7,
   "metadata": {},
   "outputs": [],
   "source": [
    "def abc(x):\n",
    "    outfile = open('write.txt','w')\n",
    "    outfile.write('xxxx')\n",
    "abc('write.txt')\n",
    "    "
   ]
  },
  {
   "cell_type": "code",
   "execution_count": null,
   "metadata": {},
   "outputs": [],
   "source": []
  }
 ],
 "metadata": {
  "kernelspec": {
   "display_name": "Python 3",
   "language": "python",
   "name": "python3"
  },
  "language_info": {
   "codemirror_mode": {
    "name": "ipython",
    "version": 3
   },
   "file_extension": ".py",
   "mimetype": "text/x-python",
   "name": "python",
   "nbconvert_exporter": "python",
   "pygments_lexer": "ipython3",
   "version": "3.7.4"
  }
 },
 "nbformat": 4,
 "nbformat_minor": 2
}
