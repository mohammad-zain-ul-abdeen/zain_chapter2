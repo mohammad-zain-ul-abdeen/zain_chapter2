{
 "cells": [
  {
   "cell_type": "markdown",
   "metadata": {},
   "source": [
    "# practice sheet 2"
   ]
  },
  {
   "cell_type": "code",
   "execution_count": 3,
   "metadata": {},
   "outputs": [
    {
     "name": "stdout",
     "output_type": "stream",
     "text": [
      "The area of triangele is: 3.8971143170299736\n",
      "time taken 4 min\n"
     ]
    }
   ],
   "source": [
    "# Q 1 \n",
    "from math import sqrt\n",
    "def area(a):\n",
    "    frmula = sqrt(3)/4*a**2\n",
    "    return frmula\n",
    "print(\"The area of triangele is:\",area(3))\n",
    "print(\"time taken 4 min\")"
   ]
  },
  {
   "cell_type": "code",
   "execution_count": 21,
   "metadata": {},
   "outputs": [
    {
     "name": "stdout",
     "output_type": "stream",
     "text": [
      "['Tahir']\n"
     ]
    }
   ],
   "source": [
    "# Q 2 \n",
    "def findrelation(Relation):\n",
    "    family = {'mother' : ['Mommy'] , 'father' : ['Tahir'] ,'brother' : ['daniyal'] , 'sister' : ['javeria']  }\n",
    "    if Relation.lower() in family:\n",
    "        print(family.get(Relation.lower()))\n",
    "    else:\n",
    "        print(\"Sorry Relation Does not exist in your family\")\n",
    "findrelation('father')\n"
   ]
  },
  {
   "cell_type": "code",
   "execution_count": 4,
   "metadata": {},
   "outputs": [
    {
     "name": "stdout",
     "output_type": "stream",
     "text": [
      "The area of  triangele is: 10.825317547305483\n",
      "Time taken 4 min\n"
     ]
    }
   ],
   "source": [
    "# Q 3 \n",
    "from math import sqrt\n",
    "def area(a):\n",
    "    frmula = sqrt(3)/4*a**2\n",
    "    return frmula\n",
    "print(\"The area of  triangele is:\",area(5))\n",
    "print(\"Time taken 4 min\")"
   ]
  },
  {
   "cell_type": "code",
   "execution_count": 5,
   "metadata": {},
   "outputs": [],
   "source": [
    "# Q 5"
   ]
  },
  {
   "cell_type": "code",
   "execution_count": 6,
   "metadata": {},
   "outputs": [
    {
     "name": "stdout",
     "output_type": "stream",
     "text": [
      "Area =  113.09733552923255\n",
      "Perimeter =  37.69911184307752\n",
      "time taken is 10 min\n"
     ]
    }
   ],
   "source": [
    "# Q6\n",
    "from math import pi\n",
    "def area_circle(pi, radius): \n",
    "    return (pi * radius**2) \n",
    "  \n",
    "def perimeter_circle(a, pi, radius): \n",
    "    return (2 * pi *  radius) \n",
    "   \n",
    "a = 2; \n",
    "radius = 6; \n",
    "print (\"Area = \", area_circle(pi, radius)) \n",
    "print (\"Perimeter = \", perimeter_circle(a, pi, radius))\n",
    "print(\"time taken is 10 min\")"
   ]
  },
  {
   "cell_type": "code",
   "execution_count": 7,
   "metadata": {},
   "outputs": [
    {
     "name": "stdout",
     "output_type": "stream",
     "text": [
      "Number of vowels are: 10\n",
      "time taken is 10 min\n"
     ]
    }
   ],
   "source": [
    "# Q 7 \n",
    "a = (\"Usman Institute of technology\")\n",
    "vowels=0\n",
    "for i in a:\n",
    "      if(i=='a' or i=='e' or i=='i' or i=='o' or i=='u' or i=='A' or i=='E' or i=='I' or i=='O' or i=='U'):\n",
    "            vowels=vowels+1\n",
    "print(\"Number of vowels are:\", vowels)\n",
    "print(\"time taken is 10 min\")"
   ]
  },
  {
   "cell_type": "code",
   "execution_count": 8,
   "metadata": {},
   "outputs": [
    {
     "name": "stdout",
     "output_type": "stream",
     "text": [
      "Area =  30\n",
      "Perimeter =  1.76\n",
      "time taken is 7 min\n"
     ]
    }
   ],
   "source": [
    "# Q 8 \n",
    "def areaRectangle(a, b): \n",
    "    return (a * b) \n",
    "  \n",
    "def perimeterRectangle(a, b): \n",
    "    return (2 * (a + b)*0.08) \n",
    "   \n",
    "a = 5; \n",
    "b = 6; \n",
    "print (\"Area = \", areaRectangle(a, b)) \n",
    "print (\"Perimeter = \", perimeterRectangle(a, b))\n",
    "print(\"time taken is 7 min\")"
   ]
  },
  {
   "cell_type": "code",
   "execution_count": 9,
   "metadata": {},
   "outputs": [],
   "source": [
    "# Q 9\n"
   ]
  },
  {
   "cell_type": "code",
   "execution_count": 1,
   "metadata": {},
   "outputs": [
    {
     "name": "stdout",
     "output_type": "stream",
     "text": [
      "Enter string : zain\n",
      "Following alphabets are used:['z', 'a', 'i', 'n']\n",
      "Following alphabets are not used:['b', 'c', 'd', 'e', 'f', 'g', 'h', 'j', 'k', 'l', 'm', 'o', 'p', 'q', 'r', 's', 't', 'u', 'v', 'w', 'x', 'y']\n"
     ]
    }
   ],
   "source": [
    "# Q10\n",
    "def checkLetter(string):\n",
    "    listAlphabets = []\n",
    "    characters = ['a','b','c','d','e','f','g','h','i','j','k','l','m','n','o','p','q','r','s','t','u','v','w','x','y','z']\n",
    "    for i in range(0,len(string)):\n",
    "        flag = 1\n",
    "        for x in range (0,len(listAlphabets)):\n",
    "            if listAlphabets[x] == string[i] :\n",
    "                flag = 0\n",
    "                continue\n",
    "        if (flag):      \n",
    "            listAlphabets.append(string[i])\n",
    "            characters.remove(string[i])\n",
    "    return [listAlphabets,characters]\n",
    "\n",
    "\n",
    "string = input(\"Enter string : \")\n",
    "listLetters =checkLetter(string)\n",
    "print(\"Following alphabets are used:\"+str(listLetters[0]))\n",
    "print(\"Following alphabets are not used:\"+str(listLetters[1]))"
   ]
  },
  {
   "cell_type": "code",
   "execution_count": 11,
   "metadata": {},
   "outputs": [],
   "source": [
    "#  Q 11\n"
   ]
  },
  {
   "cell_type": "code",
   "execution_count": 12,
   "metadata": {},
   "outputs": [],
   "source": [
    "# Q12"
   ]
  },
  {
   "cell_type": "code",
   "execution_count": 19,
   "metadata": {},
   "outputs": [
    {
     "name": "stdout",
     "output_type": "stream",
     "text": [
      "The number of lowercase characters is:\n",
      "6\n",
      "The number of uppercase characters is:\n",
      "time taken is 8 min\n"
     ]
    }
   ],
   "source": [
    "# Q13\n",
    "a = (\"USMAn INstituTE\")\n",
    "count1=0\n",
    "count2=0\n",
    "for i in a:\n",
    "      if(i.islower()):\n",
    "            count1=count1+1\n",
    "      elif(i.isupper()):\n",
    "            count2=count2+1\n",
    "print(\"The number of lowercase characters is:\")\n",
    "print(count1)\n",
    "print(\"The number of uppercase characters is:\")\n",
    "print(\"time taken is 8 min\")"
   ]
  },
  {
   "cell_type": "code",
   "execution_count": 2,
   "metadata": {},
   "outputs": [
    {
     "name": "stdout",
     "output_type": "stream",
     "text": [
      "Enter the length of the rectangle 1:2\n",
      "Enter the breadth of the rectangle 1:3\n",
      "Enter the length of the rectangle 2:3\n",
      "Enter the breadth of the rectangle 2:3\n",
      "The difference of areas is :3.0\n"
     ]
    }
   ],
   "source": [
    "# Q 14\n",
    "def findDiffOfRectangle(l1,b1,l2,b2):\n",
    "    a1=findArea(l1,b1)\n",
    "    a2=findArea(l2,b2)\n",
    "    \n",
    "    if a1>a2:\n",
    "        return a1-a2\n",
    "    else:\n",
    "        return a2-a1\n",
    "    \n",
    "def findArea(l,b):\n",
    "    return l*b\n",
    "\n",
    "\n",
    "l1 = float(input('Enter the length of the rectangle 1:'))\n",
    "b1 = float(input('Enter the breadth of the rectangle 1:'))\n",
    "l2 = float(input('Enter the length of the rectangle 2:'))\n",
    "b2 = float(input('Enter the breadth of the rectangle 2:'))\n",
    "diff = findDiffOfRectangle(l1,b1,l2,b2)\n",
    "print('The difference of areas is :'+str(diff))\n",
    "\n"
   ]
  },
  {
   "cell_type": "code",
   "execution_count": 15,
   "metadata": {},
   "outputs": [],
   "source": [
    "# Q 15"
   ]
  },
  {
   "cell_type": "code",
   "execution_count": 16,
   "metadata": {},
   "outputs": [],
   "source": [
    "# q16"
   ]
  },
  {
   "cell_type": "code",
   "execution_count": 4,
   "metadata": {},
   "outputs": [
    {
     "name": "stdout",
     "output_type": "stream",
     "text": [
      "1\n",
      "count of letters in fruts list is [['a', 5], ['f', 1], ['r', 1], ['u', 1], ['i', 1], ['t', 1], ['p', 2], ['l', 1], ['e', 1], ['b', 1], ['n', 3], ['m', 1], ['g', 1], ['o', 1]]\n"
     ]
    }
   ],
   "source": [
    "# Q 17\n",
    "def getCount(listName):\n",
    "    countList = [['a',0]]\n",
    "    print(len(countList))\n",
    "    for item in listName:\n",
    "        for i in range(0,len(item)):\n",
    "            flag = 1\n",
    "            for x in range (0,len(countList)):\n",
    "                if countList[x][0] == item[i] :\n",
    "                    countList[x][1] = countList[x][1] + 1\n",
    "                    flag = 0\n",
    "                    continue\n",
    "            if (flag):      \n",
    "               smallList = [item[i],1]\n",
    "               countList.append(smallList)\n",
    "    return countList\n",
    "print (\"count of letters in fruts list is \"+ str(getCount(['fruit','apple','banana','mango'])))"
   ]
  },
  {
   "cell_type": "code",
   "execution_count": 3,
   "metadata": {},
   "outputs": [
    {
     "name": "stdout",
     "output_type": "stream",
     "text": [
      "Enter the radius of the circle:3\n",
      "Enter the length of the square:4\n",
      "After subtracting the smallest shape from largest one, the remaining area is12.274333882308138\n"
     ]
    }
   ],
   "source": [
    "# Q18\n",
    "import math\n",
    "def areaOfSquare(l):\n",
    "    return l**2\n",
    "def areaOfCircle(r):\n",
    "    return math.pi * r * r\n",
    "def diffAreaOfShape(r,l):\n",
    "    a1=areaOfSquare(l)\n",
    "    a2=areaOfCircle(r)\n",
    "    if a1>a2:\n",
    "        return a1-a2\n",
    "    else:\n",
    "        return a2-a1\n",
    "r = float(input('Enter the radius of the circle:'))\n",
    "l = float(input('Enter the length of the square:'))\n",
    "print(\"After subtracting the smallest shape from largest one, the remaining area is\"+str(diffAreaOfShape(r,l)))"
   ]
  },
  {
   "cell_type": "code",
   "execution_count": null,
   "metadata": {},
   "outputs": [],
   "source": []
  }
 ],
 "metadata": {
  "kernelspec": {
   "display_name": "Python 3",
   "language": "python",
   "name": "python3"
  },
  "language_info": {
   "codemirror_mode": {
    "name": "ipython",
    "version": 3
   },
   "file_extension": ".py",
   "mimetype": "text/x-python",
   "name": "python",
   "nbconvert_exporter": "python",
   "pygments_lexer": "ipython3",
   "version": "3.7.4"
  }
 },
 "nbformat": 4,
 "nbformat_minor": 2
}
