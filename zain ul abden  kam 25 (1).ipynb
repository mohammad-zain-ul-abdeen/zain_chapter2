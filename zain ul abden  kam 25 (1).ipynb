{
 "cells": [
  {
   "cell_type": "markdown",
   "metadata": {},
   "source": [
    "# exercise  book "
   ]
  },
  {
   "cell_type": "code",
   "execution_count": 4,
   "metadata": {},
   "outputs": [
    {
     "data": {
      "text/plain": [
       "True"
      ]
     },
     "execution_count": 4,
     "metadata": {},
     "output_type": "execute_result"
    }
   ],
   "source": [
    "s = \"goodbye\"\n",
    "'g'in s"
   ]
  },
  {
   "cell_type": "code",
   "execution_count": 11,
   "metadata": {},
   "outputs": [
    {
     "name": "stdout",
     "output_type": "stream",
     "text": [
      "the average is : 24.333333333333332\n"
     ]
    }
   ],
   "source": [
    "#problem no 2.1\n",
    "#sum of first five positive integers\n",
    "1+2+3+4+5\n",
    "#the average of age of sara(age 23)and mark(age 19) and fatima(age31 )\n",
    "total = 23+19+31\n",
    "ans = total/3\n",
    "print(\"the average is :\",ans)"
   ]
  },
  {
   "cell_type": "code",
   "execution_count": 12,
   "metadata": {},
   "outputs": [
    {
     "data": {
      "text/plain": [
       "57"
      ]
     },
     "execution_count": 12,
     "metadata": {},
     "output_type": "execute_result"
    }
   ],
   "source": [
    "#how many times 73 goes into 403\n",
    "403//7"
   ]
  },
  {
   "cell_type": "code",
   "execution_count": 13,
   "metadata": {},
   "outputs": [
    {
     "data": {
      "text/plain": [
       "4"
      ]
     },
     "execution_count": 13,
     "metadata": {},
     "output_type": "execute_result"
    }
   ],
   "source": [
    "#the reminder when 403 is devided by 73\n",
    "403%7"
   ]
  },
  {
   "cell_type": "code",
   "execution_count": 14,
   "metadata": {},
   "outputs": [
    {
     "data": {
      "text/plain": [
       "1024"
      ]
     },
     "execution_count": 14,
     "metadata": {},
     "output_type": "execute_result"
    }
   ],
   "source": [
    "#2 to thw power 10\n",
    "2**10"
   ]
  },
  {
   "cell_type": "code",
   "execution_count": 15,
   "metadata": {},
   "outputs": [
    {
     "data": {
      "text/plain": [
       "3"
      ]
     },
     "execution_count": 15,
     "metadata": {},
     "output_type": "execute_result"
    }
   ],
   "source": [
    "#absolute value os srahs and marks height\n",
    "abs(57-54)"
   ]
  },
  {
   "cell_type": "code",
   "execution_count": 16,
   "metadata": {},
   "outputs": [
    {
     "data": {
      "text/plain": [
       "29.95"
      ]
     },
     "execution_count": 16,
     "metadata": {},
     "output_type": "execute_result"
    }
   ],
   "source": [
    "#the lowes price among the following\n",
    "min(34.99,29.95,31.50)"
   ]
  },
  {
   "cell_type": "code",
   "execution_count": 17,
   "metadata": {},
   "outputs": [
    {
     "data": {
      "text/plain": [
       "False"
      ]
     },
     "execution_count": 17,
     "metadata": {},
     "output_type": "execute_result"
    }
   ],
   "source": [
    "#problem 2.2\n",
    "#the sum of 2 and 2 is less than 4\n",
    "2+2<4"
   ]
  },
  {
   "cell_type": "code",
   "execution_count": 18,
   "metadata": {},
   "outputs": [
    {
     "data": {
      "text/plain": [
       "True"
      ]
     },
     "execution_count": 18,
     "metadata": {},
     "output_type": "execute_result"
    }
   ],
   "source": [
    "#part b\n",
    "7//3 ==1+1"
   ]
  },
  {
   "cell_type": "code",
   "execution_count": 19,
   "metadata": {},
   "outputs": [
    {
     "data": {
      "text/plain": [
       "True"
      ]
     },
     "execution_count": 19,
     "metadata": {},
     "output_type": "execute_result"
    }
   ],
   "source": [
    "#part c\n",
    "3**2+4**2 ==25"
   ]
  },
  {
   "cell_type": "code",
   "execution_count": 20,
   "metadata": {},
   "outputs": [
    {
     "data": {
      "text/plain": [
       "False"
      ]
     },
     "execution_count": 20,
     "metadata": {},
     "output_type": "execute_result"
    }
   ],
   "source": [
    "#part d\n",
    "2+4+6>12"
   ]
  },
  {
   "cell_type": "code",
   "execution_count": 21,
   "metadata": {},
   "outputs": [
    {
     "data": {
      "text/plain": [
       "True"
      ]
     },
     "execution_count": 21,
     "metadata": {},
     "output_type": "execute_result"
    }
   ],
   "source": [
    "#part e\n",
    "1387%19==0"
   ]
  },
  {
   "cell_type": "code",
   "execution_count": 22,
   "metadata": {},
   "outputs": [
    {
     "data": {
      "text/plain": [
       "False"
      ]
     },
     "execution_count": 22,
     "metadata": {},
     "output_type": "execute_result"
    }
   ],
   "source": [
    "#part f\n",
    "31%2==0"
   ]
  },
  {
   "cell_type": "code",
   "execution_count": 23,
   "metadata": {},
   "outputs": [
    {
     "data": {
      "text/plain": [
       "False"
      ]
     },
     "execution_count": 23,
     "metadata": {},
     "output_type": "execute_result"
    }
   ],
   "source": [
    "#pART g\n",
    "min(34.99,31.50)<30.00"
   ]
  },
  {
   "cell_type": "code",
   "execution_count": 25,
   "metadata": {},
   "outputs": [
    {
     "name": "stdout",
     "output_type": "stream",
     "text": [
      "25\n"
     ]
    }
   ],
   "source": [
    "#practice priblem no 2.3\n",
    "#part a ,part b and part c\n",
    "a = 3\n",
    "b = 4\n",
    "c = a*a+b*b\n",
    "print(c)"
   ]
  },
  {
   "cell_type": "code",
   "execution_count": 30,
   "metadata": {
    "scrolled": true
   },
   "outputs": [
    {
     "name": "stdout",
     "output_type": "stream",
     "text": [
      "ant bat cod\n",
      "ant ant ant ant ant ant ant ant ant ant ant ant\n",
      "ant bat bat cod cod cod\n",
      "ant bat ant bat ant bat ant bat ant bat ant bat ant bat ant bat\n",
      "batbatcod batbatcod batbatcod\n"
     ]
    }
   ],
   "source": [
    "#practise problem no 2.4\n",
    "s1 = \"ant\"\n",
    "s2 = \"bat\"\n",
    "s3 = \"cod\"\n",
    "print(s1 , s2 , s3)\n",
    "print(s1, s1, s1, s1, s1, s1, s1, s1, s1, s1, s1, s1)\n",
    "print(s1, s2, s2, s3, s3, s3)\n",
    "print(s1,s2,s1,s2,s1,s2,s1,s2,s1,s2,s1,s2,s1,s2,s1,s2)\n",
    "print(s2+s2+s3, s2+s2+s3 , s2+s2+s3)"
   ]
  },
  {
   "cell_type": "code",
   "execution_count": 36,
   "metadata": {},
   "outputs": [
    {
     "data": {
      "text/plain": [
       "'9'"
      ]
     },
     "execution_count": 36,
     "metadata": {},
     "output_type": "execute_result"
    }
   ],
   "source": [
    "#problem 2.5\n",
    "s = \"0123456789\"\n",
    "s[1]\n",
    "s[2]\n",
    "s[6]\n",
    "s[8]\n",
    "s[9]"
   ]
  },
  {
   "cell_type": "code",
   "execution_count": 39,
   "metadata": {},
   "outputs": [
    {
     "data": {
      "text/plain": [
       "'badminton'"
      ]
     },
     "execution_count": 39,
     "metadata": {},
     "output_type": "execute_result"
    }
   ],
   "source": [
    "#problem 2.6\n",
    "words = ['bat','ball','barn','basket','badminton']\n",
    "max(words)\n",
    "min(words)"
   ]
  },
  {
   "cell_type": "code",
   "execution_count": 10,
   "metadata": {},
   "outputs": [],
   "source": [
    "#problem 2.7\n",
    "grades= [9, 7, 7, 10, 3, 9, 6, 6, 2]\n",
    "grades.remove(2)\n",
    "grades.append(4)\n",
    "max(grades)\n",
    "grades.sort()"
   ]
  },
  {
   "cell_type": "code",
   "execution_count": 11,
   "metadata": {},
   "outputs": [
    {
     "data": {
      "text/plain": [
       "6.777777777777778"
      ]
     },
     "execution_count": 11,
     "metadata": {},
     "output_type": "execute_result"
    }
   ],
   "source": [
    "sum(grades) / len(grades)"
   ]
  },
  {
   "cell_type": "code",
   "execution_count": 16,
   "metadata": {},
   "outputs": [
    {
     "ename": "SyntaxError",
     "evalue": "invalid syntax (<ipython-input-16-67c3c20450c1>, line 3)",
     "output_type": "error",
     "traceback": [
      "\u001b[1;36m  File \u001b[1;32m\"<ipython-input-16-67c3c20450c1>\"\u001b[1;36m, line \u001b[1;32m3\u001b[0m\n\u001b[1;33m    (((1st[1]) * (-3) < (-10)) == 0\u001b[0m\n\u001b[1;37m         ^\u001b[0m\n\u001b[1;31mSyntaxError\u001b[0m\u001b[1;31m:\u001b[0m invalid syntax\n"
     ]
    }
   ],
   "source": [
    " #problem 2.8\n",
    "((2+3) == 4) or (a>= 5)\n",
    "(((1st[1]) * (-3) < (-10)) == 0\n",
    "(((1st[1]) *(-3))<(-10)) in [0,true]\n",
    " 2 *(3**2)\n",
    "(4/2) in [1,2,3]\n"
   ]
  },
  {
   "cell_type": "code",
   "execution_count": null,
   "metadata": {},
   "outputs": [],
   "source": [
    "#problem 2.9\n",
    "#the first value evaluates to bolean \n",
    "#part b is a float value \n",
    "#part c is an Integer value \n",
    "#part d IS an bol value "
   ]
  },
  {
   "cell_type": "code",
   "execution_count": null,
   "metadata": {},
   "outputs": [],
   "source": [
    "#problem number 2.10\n",
    "import math \n",
    "math.sqrt(a**2 + b**2)\n",
    "math.sqrt(a**2 + b**2) == 5\n",
    "math.pi *a**2\n",
    "(x -a)**2 +(y -b)**2 < r**2"
   ]
  },
  {
   "cell_type": "code",
   "execution_count": 2,
   "metadata": {},
   "outputs": [
    {
     "data": {
      "text/plain": [
       "-28"
      ]
     },
     "execution_count": 2,
     "metadata": {},
     "output_type": "execute_result"
    }
   ],
   "source": [
    "#problem numbeer 2.11\n",
    "-7-6-5-4-3-2-1"
   ]
  },
  {
   "cell_type": "code",
   "execution_count": 3,
   "metadata": {},
   "outputs": [
    {
     "name": "stdout",
     "output_type": "stream",
     "text": [
      "127.76470588235294\n"
     ]
    }
   ],
   "source": [
    "#2.11 \n",
    "average_age = 9*17+24*10+21*11+27*12\n",
    "average1 = average_age/17+24+21+27\n",
    "print(average1)"
   ]
  },
  {
   "cell_type": "code",
   "execution_count": 4,
   "metadata": {},
   "outputs": [
    {
     "data": {
      "text/plain": [
       "9.5367431640625e-07"
      ]
     },
     "execution_count": 4,
     "metadata": {},
     "output_type": "execute_result"
    }
   ],
   "source": [
    "#2.11\n",
    "2**-20"
   ]
  },
  {
   "cell_type": "code",
   "execution_count": 6,
   "metadata": {},
   "outputs": [
    {
     "data": {
      "text/plain": [
       "71"
      ]
     },
     "execution_count": 6,
     "metadata": {},
     "output_type": "execute_result"
    }
   ],
   "source": [
    "#2.11\n",
    "4356//61"
   ]
  },
  {
   "cell_type": "code",
   "execution_count": 7,
   "metadata": {},
   "outputs": [
    {
     "data": {
      "text/plain": [
       "34"
      ]
     },
     "execution_count": 7,
     "metadata": {},
     "output_type": "execute_result"
    }
   ],
   "source": [
    "4365%61"
   ]
  },
  {
   "cell_type": "code",
   "execution_count": 9,
   "metadata": {},
   "outputs": [
    {
     "name": "stdout",
     "output_type": "stream",
     "text": [
      "+-\n",
      "-+-\n",
      "+--\n",
      "+--+--\n",
      "+--+--+--+--+--\n"
     ]
    }
   ],
   "source": [
    "#problem 2.12\n",
    "a = '+'\n",
    "b = '-'\n",
    "print(a+b)\n",
    "print(b+a+b)\n",
    "print(a+b+b)\n",
    "print(a+b+b+a+b+b)\n",
    "print(a+b+b+a+b+b+a+b+b+a+b+b+a+b+b)"
   ]
  },
  {
   "cell_type": "code",
   "execution_count": 10,
   "metadata": {},
   "outputs": [
    {
     "name": "stdout",
     "output_type": "stream",
     "text": [
      "a\n",
      "c\n",
      "y\n",
      "z\n",
      "q\n"
     ]
    }
   ],
   "source": [
    "#problem number 2.13\n",
    "s = 'abcdefghijklmnopqrstuvwxyz'\n",
    "print(s[0])\n",
    "print(s[2])\n",
    "print(s[24])\n",
    "print(s[25])\n",
    "print(s[16])"
   ]
  },
  {
   "cell_type": "code",
   "execution_count": 14,
   "metadata": {},
   "outputs": [
    {
     "name": "stdout",
     "output_type": "stream",
     "text": [
      "True\n",
      "False\n",
      "False\n",
      "False\n",
      "True\n",
      "False\n",
      "False\n"
     ]
    }
   ],
   "source": [
    "#program number 2.14\n",
    "s = 'goodbye'\n",
    "print(s[0]=='g')\n",
    "print(s[6]=='g')\n",
    "print(s[0]=='g' and s[1]=='a')\n",
    "print(s[-2]=='x')\n",
    "print(s[3]=='d')\n",
    "print(s[0]==s[1])\n",
    "print(s[1]+s[2]+s[3]+s[4]=='tion')"
   ]
  },
  {
   "cell_type": "code",
   "execution_count": 15,
   "metadata": {},
   "outputs": [
    {
     "name": "stdout",
     "output_type": "stream",
     "text": [
      "number of characters : 17\n",
      "the number of characters : 15\n",
      "\\dictionary gives the word in yhis order\n",
      "['mis interpretation', 'misrepresentation']\n",
      "the number of time e repeates in is ﬂoccinaucinihilipiliﬁcation\n",
      "the number of characters are : 17\n",
      "the number of characters arev : 10\n"
     ]
    }
   ],
   "source": [
    "#program number 15\n",
    "a = 'anachronistically'\n",
    "b = 'counterintutive'\n",
    "print(\"number of characters : \"+str(len(a)))\n",
    "print(\"the number of characters : \"+str(len(b)))\n",
    "\n",
    "dictionary = ['misrepresentation','mis interpretation' ]\n",
    "dictionary.sort()\n",
    "print(\"\\dictionary gives the word in yhis order\")\n",
    "print(dictionary)\n",
    "word = 'ﬂoccinaucinihilipiliﬁcation'\n",
    "print(\"the number of time e repeates in is \"+str(word))\n",
    "word1 = 'counterrevolution'\n",
    "word2 = 'resolution'\n",
    "print(\"the number of characters are : \" +str(len(word1)))\n",
    "print(\"the number of characters arev : \"+str(len(word2)))"
   ]
  },
  {
   "cell_type": "code",
   "execution_count": 17,
   "metadata": {
    "scrolled": true
   },
   "outputs": [
    {
     "name": "stdout",
     "output_type": "stream",
     "text": [
      "['jan', 'feb', 'march', 'april', 'may']\n",
      "['jan', 'feb', 'march', 'april', 'may']\n"
     ]
    }
   ],
   "source": [
    "#problem 2.23\n",
    "monthsl=['jan','feb','march','may']\n",
    "monthst=['jan','feb','march','may']\n",
    "monthsl.insert(3,\"april\")\n",
    "print(monthsl)\n",
    "monthst.insert(3,\"april\")\n",
    "print(monthst)"
   ]
  },
  {
   "cell_type": "code",
   "execution_count": 18,
   "metadata": {},
   "outputs": [
    {
     "name": "stdout",
     "output_type": "stream",
     "text": [
      "['jan', 'feb', 'march', 'may', 'june']\n",
      "['jan', 'feb', 'march', 'may', 'june']\n"
     ]
    }
   ],
   "source": [
    "monthsl=['jan','feb','march','may']\n",
    "monthst=['jan','feb','march','may']\n",
    "monthsl.append(\"june\")\n",
    "print(monthsl)\n",
    "monthst.append(\"june\")\n",
    "print(monthst)"
   ]
  },
  {
   "cell_type": "code",
   "execution_count": 19,
   "metadata": {},
   "outputs": [
    {
     "name": "stdout",
     "output_type": "stream",
     "text": [
      "['jan', 'feb', 'march']\n",
      "['jan', 'feb', 'march']\n"
     ]
    }
   ],
   "source": [
    "monthsl=['jan','feb','march','may']\n",
    "monthst=['jan','feb','march','may']\n",
    "monthsl.pop()\n",
    "print(monthsl)\n",
    "monthst.pop()\n",
    "print(monthst)"
   ]
  },
  {
   "cell_type": "code",
   "execution_count": 20,
   "metadata": {},
   "outputs": [
    {
     "name": "stdout",
     "output_type": "stream",
     "text": [
      "['jan', 'march', 'may']\n",
      "['jan', 'march', 'may']\n"
     ]
    }
   ],
   "source": [
    "monthsl=['jan','feb','march','may']\n",
    "monthst=['jan','feb','march','may']\n",
    "del(monthsl[1])\n",
    "print(monthsl)\n",
    "del(monthst[1])\n",
    "print(monthst)"
   ]
  },
  {
   "cell_type": "code",
   "execution_count": 21,
   "metadata": {},
   "outputs": [
    {
     "name": "stdout",
     "output_type": "stream",
     "text": [
      "['may', 'march', 'feb', 'jan']\n",
      "['jan', 'feb', 'march', 'may']\n"
     ]
    }
   ],
   "source": [
    "monthsl=['jan','feb','march','may']\n",
    "monthst=['jan','feb','march','may']\n",
    "monthsl.reverse()\n",
    "print(monthsl)\n",
    "monthst.reverse\n",
    "print(monthst)"
   ]
  },
  {
   "cell_type": "code",
   "execution_count": 22,
   "metadata": {},
   "outputs": [
    {
     "name": "stdout",
     "output_type": "stream",
     "text": [
      "['feb', 'jan', 'march', 'may']\n",
      "['feb', 'jan', 'march', 'may']\n"
     ]
    }
   ],
   "source": [
    "monthsl=['jan','feb','march','may']\n",
    "monthst=['jan','feb','march','may']\n",
    "monthsl.sort()\n",
    "print(monthsl)\n",
    "monthst.sort()\n",
    "print(monthst)"
   ]
  },
  {
   "cell_type": "code",
   "execution_count": 23,
   "metadata": {},
   "outputs": [],
   "source": [
    "#problem 2.19\n",
    "answers=['y', 'n', 'n', 'y', 'n', 'y','y', 'y', 'n', 'n', 'n' ]\n",
    "numyes=()"
   ]
  },
  {
   "cell_type": "code",
   "execution_count": 24,
   "metadata": {},
   "outputs": [
    {
     "name": "stdout",
     "output_type": "stream",
     "text": [
      "5\n"
     ]
    }
   ],
   "source": [
    "answers=['y', 'n', 'n', 'y', 'n', 'y','y', 'y', 'n', 'n', 'n' ]\n",
    "numyes=(answers.count('y'))\n",
    "print(numyes)"
   ]
  },
  {
   "cell_type": "code",
   "execution_count": 25,
   "metadata": {},
   "outputs": [
    {
     "name": "stdout",
     "output_type": "stream",
     "text": [
      "6\n"
     ]
    }
   ],
   "source": [
    "answers=['y', 'n', 'n', 'y', 'n', 'y','y', 'y', 'n', 'n', 'n' ]\n",
    "numno=(answers.count('n'))\n",
    "print(numno)"
   ]
  },
  {
   "cell_type": "code",
   "execution_count": 26,
   "metadata": {},
   "outputs": [
    {
     "name": "stdout",
     "output_type": "stream",
     "text": [
      "['n', 'n', 'n', 'n', 'n', 'n', 'y', 'y', 'y', 'y', 'y']\n",
      "6\n"
     ]
    }
   ],
   "source": [
    "answers=['y', 'n', 'n', 'y', 'n', 'y','y', 'y', 'n', 'n', 'n' ]\n",
    "answers.sort()\n",
    "print(answers)\n",
    "f=answers.index('y')\n",
    "print(f)"
   ]
  },
  {
   "cell_type": "code",
   "execution_count": 27,
   "metadata": {},
   "outputs": [
    {
     "ename": "AttributeError",
     "evalue": "'list' object has no attribute 'percent'",
     "output_type": "error",
     "traceback": [
      "\u001b[1;31m---------------------------------------------------------------------------\u001b[0m",
      "\u001b[1;31mAttributeError\u001b[0m                            Traceback (most recent call last)",
      "\u001b[1;32m<ipython-input-27-b7a833b0b0b7>\u001b[0m in \u001b[0;36m<module>\u001b[1;34m\u001b[0m\n\u001b[0;32m      1\u001b[0m \u001b[0manswers\u001b[0m\u001b[1;33m=\u001b[0m\u001b[1;33m[\u001b[0m\u001b[1;34m'y'\u001b[0m\u001b[1;33m,\u001b[0m \u001b[1;34m'n'\u001b[0m\u001b[1;33m,\u001b[0m \u001b[1;34m'n'\u001b[0m\u001b[1;33m,\u001b[0m \u001b[1;34m'y'\u001b[0m\u001b[1;33m,\u001b[0m \u001b[1;34m'n'\u001b[0m\u001b[1;33m,\u001b[0m \u001b[1;34m'y'\u001b[0m\u001b[1;33m,\u001b[0m\u001b[1;34m'y'\u001b[0m\u001b[1;33m,\u001b[0m \u001b[1;34m'y'\u001b[0m\u001b[1;33m,\u001b[0m \u001b[1;34m'n'\u001b[0m\u001b[1;33m,\u001b[0m \u001b[1;34m'n'\u001b[0m\u001b[1;33m,\u001b[0m \u001b[1;34m'n'\u001b[0m \u001b[1;33m]\u001b[0m\u001b[1;33m\u001b[0m\u001b[1;33m\u001b[0m\u001b[0m\n\u001b[1;32m----> 2\u001b[1;33m \u001b[0mpercent\u001b[0m\u001b[1;33m=\u001b[0m\u001b[1;33m(\u001b[0m\u001b[0manswers\u001b[0m\u001b[1;33m.\u001b[0m\u001b[0mpercent\u001b[0m\u001b[1;33m(\u001b[0m\u001b[1;34m'y'\u001b[0m\u001b[1;33m)\u001b[0m\u001b[1;33m)\u001b[0m\u001b[1;33m\u001b[0m\u001b[1;33m\u001b[0m\u001b[0m\n\u001b[0m\u001b[0;32m      3\u001b[0m \u001b[0mprint\u001b[0m\u001b[1;33m(\u001b[0m\u001b[0mpercent\u001b[0m\u001b[1;33m)\u001b[0m\u001b[1;33m\u001b[0m\u001b[1;33m\u001b[0m\u001b[0m\n",
      "\u001b[1;31mAttributeError\u001b[0m: 'list' object has no attribute 'percent'"
     ]
    }
   ],
   "source": [
    "answers=['y', 'n', 'n', 'y', 'n', 'y','y', 'y', 'n', 'n', 'n' ]\n",
    "percent=(answers.percent('y'))\n",
    "print(percent)"
   ]
  }
 ],
 "metadata": {
  "kernelspec": {
   "display_name": "Python 3",
   "language": "python",
   "name": "python3"
  },
  "language_info": {
   "codemirror_mode": {
    "name": "ipython",
    "version": 3
   },
   "file_extension": ".py",
   "mimetype": "text/x-python",
   "name": "python",
   "nbconvert_exporter": "python",
   "pygments_lexer": "ipython3",
   "version": "3.7.4"
  }
 },
 "nbformat": 4,
 "nbformat_minor": 2
}
