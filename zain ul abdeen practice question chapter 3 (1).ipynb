{
 "cells": [
  {
   "cell_type": "markdown",
   "metadata": {},
   "source": [
    "# Practice Problems"
   ]
  },
  {
   "cell_type": "code",
   "execution_count": 1,
   "metadata": {},
   "outputs": [
    {
     "name": "stdout",
     "output_type": "stream",
     "text": [
      "Enter the temperature in degree Fahrenheit: 45\n",
      "The temperature in degree Celsius is  7.222222222222222\n"
     ]
    }
   ],
   "source": [
    "# 3.1\n",
    "\n",
    "fahrenheit = eval(input('Enter the temperature in degree Fahrenheit: '))\n",
    "celsius = (fahrenheit - 32) * 5 / 9\n",
    "print('The temperature in degree Celsius is ', celsius)"
   ]
  },
  {
   "cell_type": "code",
   "execution_count": 2,
   "metadata": {},
   "outputs": [
    {
     "name": "stdout",
     "output_type": "stream",
     "text": [
      "You can get yout pension benefits! \n",
      "One of the top 5 baseball players, ever! \n",
      "I can escape. \n"
     ]
    }
   ],
   "source": [
    "# 3.2\n",
    "\n",
    "age = 63\n",
    "name = 'Williams'\n",
    "hits = 10\n",
    "sheild = 1\n",
    "north = True\n",
    "south = False\n",
    "east = False\n",
    "west = True\n",
    "\n",
    "if age > 62:\n",
    "    print('You can get yout pension benefits! ')\n",
    "    \n",
    "if name in ['Musial', 'Aaron', 'Williams', 'Gehrig', 'Ruth']:\n",
    "    print('One of the top 5 baseball players, ever! ')\n",
    "    \n",
    "if hits > 10 and sheild == 0:\n",
    "    print('You\\'re dead...')\n",
    "    \n",
    "if north or south or east or west:\n",
    "    print('I can escape. ')"
   ]
  },
  {
   "cell_type": "code",
   "execution_count": 6,
   "metadata": {},
   "outputs": [
    {
     "name": "stdout",
     "output_type": "stream",
     "text": [
      "Could be a leap year. \n",
      "You won! \n"
     ]
    }
   ],
   "source": [
    "# 3.3\n",
    "\n",
    "year = 4\n",
    "ticket = ['0111','0222','0223']\n",
    "lottery = ['0111','0222','0223']\n",
    "\n",
    "if year % 4 == 0:\n",
    "    print('Could be a leap year. ')\n",
    "else:\n",
    "    print('Definitelt not a leap year. ')\n",
    "    \n",
    "if  ticket == lottery:\n",
    "    print('You won! ')\n",
    "else: \n",
    "    print('Better Luck necxt time...' )\n"
   ]
  },
  {
   "cell_type": "code",
   "execution_count": 4,
   "metadata": {},
   "outputs": [
    {
     "name": "stdout",
     "output_type": "stream",
     "text": [
      "Login: Ahmed\n",
      "User unknown. \n",
      "Done. \n"
     ]
    }
   ],
   "source": [
    "# 3.4 \n",
    "\n",
    "users = ['joe', 'sure', 'hani', 'sophie']\n",
    "id = input('Login: ')\n",
    "\n",
    "if id in users:\n",
    "    print('You are in! ')\n",
    "else:\n",
    "    print('User unknown. ')\n",
    "    \n",
    "print('Done. ')"
   ]
  },
  {
   "cell_type": "code",
   "execution_count": 9,
   "metadata": {},
   "outputs": [
    {
     "name": "stdout",
     "output_type": "stream",
     "text": [
      "Enter word list: ['alert','message','list','word','name','stop','uncle']\n",
      "list\n",
      "word\n",
      "name\n",
      "stop\n"
     ]
    }
   ],
   "source": [
    "# 3.5\n",
    "\n",
    "\n",
    "wordlist = eval(input('Enter word list: '))\n",
    "for word in wordlist:\n",
    "    if len(word) == 4:\n",
    "        print(word)"
   ]
  },
  {
   "cell_type": "code",
   "execution_count": 10,
   "metadata": {},
   "outputs": [
    {
     "name": "stdout",
     "output_type": "stream",
     "text": [
      "Integer from 0 to 9\n",
      "0\n",
      "1\n",
      "2\n",
      "3\n",
      "4\n",
      "5\n",
      "6\n",
      "7\n",
      "8\n",
      "9\n",
      "Integer from 0 to 1\n",
      "0\n",
      "1\n"
     ]
    }
   ],
   "source": [
    "# 3.6\n",
    "\n",
    "print(\"Integer from 0 to 9\")\n",
    "for i in range(10):\n",
    "    print(i)\n",
    "print(\"Integer from 0 to 1\")  \n",
    "for i in range(2):\n",
    "    print(i)"
   ]
  },
  {
   "cell_type": "code",
   "execution_count": 11,
   "metadata": {},
   "outputs": [
    {
     "name": "stdout",
     "output_type": "stream",
     "text": [
      "Integer from 3 up to and including 12: \n",
      "3\n",
      "4\n",
      "5\n",
      "6\n",
      "7\n",
      "8\n",
      "9\n",
      "10\n",
      "11\n",
      "12\n"
     ]
    }
   ],
   "source": [
    "# 3.7 (a)\n",
    "print(\"Integer from 3 up to and including 12: \")\n",
    "for i in range(3, 13):\n",
    "    print(i)\n"
   ]
  },
  {
   "cell_type": "code",
   "execution_count": 12,
   "metadata": {},
   "outputs": [
    {
     "name": "stdout",
     "output_type": "stream",
     "text": [
      "Integer from 0 up to but not including 9, but with a step of 2 instead of the default 1\n",
      "0\n",
      "2\n",
      "4\n",
      "6\n",
      "8\n"
     ]
    }
   ],
   "source": [
    "# 3.7 (b)\n",
    "\n",
    "print(\"Integer from 0 up to but not including 9, but with a step of 2 instead of the default 1\")\n",
    "\n",
    "for i in range(0, 10, 2):\n",
    "    print(i)"
   ]
  },
  {
   "cell_type": "code",
   "execution_count": 13,
   "metadata": {},
   "outputs": [
    {
     "name": "stdout",
     "output_type": "stream",
     "text": [
      "Integer from 0 up to but not including 24 with a step of 3:\n",
      "0\n",
      "3\n",
      "6\n",
      "9\n",
      "12\n",
      "15\n",
      "18\n",
      "21\n"
     ]
    }
   ],
   "source": [
    "# 3.7 (c)\n",
    "\n",
    "print(\"Integer from 0 up to but not including 24 with a step of 3:\")\n",
    "\n",
    "for i in range(0, 24, 3):\n",
    "    print(i)"
   ]
  },
  {
   "cell_type": "code",
   "execution_count": 14,
   "metadata": {},
   "outputs": [
    {
     "name": "stdout",
     "output_type": "stream",
     "text": [
      "Integer from 3 up to but not including 12 with a step of 5:\n",
      "3\n",
      "8\n"
     ]
    }
   ],
   "source": [
    "# 3.7 (d)\n",
    "\n",
    "print(\"Integer from 3 up to but not including 12 with a step of 5:\")\n",
    "\n",
    "for i in range(3, 12, 5):\n",
    "    print(i)"
   ]
  },
  {
   "cell_type": "code",
   "execution_count": 16,
   "metadata": {},
   "outputs": [
    {
     "name": "stdout",
     "output_type": "stream",
     "text": [
      "Input radius: 1\n",
      "6.283185307179586\n"
     ]
    }
   ],
   "source": [
    "# 3.8\n",
    "\n",
    "import math\n",
    "def perimeter(radius):\n",
    "    return 2 * math.pi * radius\n",
    "\n",
    "print(perimeter(int(input(\"Input radius: \"))))"
   ]
  },
  {
   "cell_type": "code",
   "execution_count": 31,
   "metadata": {},
   "outputs": [
    {
     "name": "stdout",
     "output_type": "stream",
     "text": [
      "Input number 1: 1\n",
      "Input number 2: 2\n",
      "average is 1.5\n"
     ]
    }
   ],
   "source": [
    "# 3.9\n",
    "\n",
    "def average(x, y):\n",
    "    'returns average of x and y'\n",
    "    return(x + y) / 2\n",
    "\n",
    "num1= int(input(\"Input number 1: \"))\n",
    "num2= int(input(\"Input number 2: \"))\n",
    "\n",
    "print(\"average is \"+ str(average(num1,num2)))\n"
   ]
  },
  {
   "cell_type": "code",
   "execution_count": 21,
   "metadata": {},
   "outputs": [
    {
     "name": "stdout",
     "output_type": "stream",
     "text": [
      "False\n"
     ]
    }
   ],
   "source": [
    "# 3.10\n",
    "\n",
    "def noVowel(s):\n",
    "    'return True if string s contains no vowel, False otherwise'\n",
    "    for c in s:\n",
    "        if c in 'aeiouAEIOU':\n",
    "            return False\n",
    "        return True\n",
    "    \n",
    "print(noVowel('octopus'))"
   ]
  },
  {
   "cell_type": "code",
   "execution_count": 25,
   "metadata": {},
   "outputs": [
    {
     "name": "stdout",
     "output_type": "stream",
     "text": [
      "[2, 4, 6, 8, 4]contains even number: True\n",
      "[1, 2, 5, 6, 8]contains even number: False\n"
     ]
    }
   ],
   "source": [
    "# 3.11\n",
    "\n",
    "def allEven(numList):\n",
    "    'return True if all integers in numList are even, False otherwise'\n",
    "    for num in numList:\n",
    "        if num % 2 != 0:\n",
    "            return False\n",
    "    return True\n",
    "\n",
    "numList = [2,4,6,8,4]\n",
    "anotherList = [1,2,5,6,8]\n",
    "\n",
    "print(str(numList) + \"contains even number: \"+ str(allEven(numList)))\n",
    "print(str(anotherList) + \"contains even number: \"+ str(allEven(anotherList)))\n"
   ]
  },
  {
   "cell_type": "code",
   "execution_count": 26,
   "metadata": {},
   "outputs": [
    {
     "name": "stdout",
     "output_type": "stream",
     "text": [
      "-1\n",
      "-5\n"
     ]
    }
   ],
   "source": [
    "# 3.12\n",
    "\n",
    "def negatives(lst):\n",
    "    'prints the negative numbers in list lst'\n",
    "    for i in lst:\n",
    "        if i < 0:\n",
    "            print(i)\n",
    "            \n",
    "negatives([2,-1,3,-5,2,2])"
   ]
  },
  {
   "cell_type": "code",
   "execution_count": 32,
   "metadata": {},
   "outputs": [
    {
     "name": "stdout",
     "output_type": "stream",
     "text": [
      "Help on function average in module __main__:\n",
      "\n",
      "average(x, y)\n",
      "    returns average of x and y\n",
      "\n",
      "Help on function negatives in module __main__:\n",
      "\n",
      "negatives(lst)\n",
      "    prints th negative numbers in list lst\n",
      "\n"
     ]
    }
   ],
   "source": [
    "# 3.13\n",
    "\n",
    "help(average)\n",
    "help(negatives)\n",
    "\n"
   ]
  },
  {
   "cell_type": "code",
   "execution_count": null,
   "metadata": {},
   "outputs": [],
   "source": [
    "# 3.14\n"
   ]
  },
  {
   "cell_type": "code",
   "execution_count": 33,
   "metadata": {},
   "outputs": [
    {
     "name": "stdout",
     "output_type": "stream",
     "text": [
      "['Ayan', 'Ali', 'Sohaib', 'Ahmed']\n"
     ]
    }
   ],
   "source": [
    "# 3.15\n",
    "\n",
    "team = ['Ahmed','Ali','Sohaib','Ayan']\n",
    "\n",
    "team[0], team[-1] = team[-1], team[0]\n",
    "\n",
    "print(team)"
   ]
  },
  {
   "cell_type": "code",
   "execution_count": 35,
   "metadata": {},
   "outputs": [
    {
     "name": "stdout",
     "output_type": "stream",
     "text": [
      "['apples', 'sugar', 'butter', 'flour']\n"
     ]
    }
   ],
   "source": [
    "# 3.16\n",
    "\n",
    "ingredients =['flour','sugar','butter','apples']\n",
    "\n",
    "def swapFL(lst):\n",
    "    lst[0], lst[-1] = lst[-1], lst[0]\n",
    "    \n",
    "swapFL(ingredients)\n",
    "print(ingredients)"
   ]
  },
  {
   "cell_type": "code",
   "execution_count": null,
   "metadata": {},
   "outputs": [],
   "source": []
  }
 ],
 "metadata": {
  "kernelspec": {
   "display_name": "Python 3",
   "language": "python",
   "name": "python3"
  },
  "language_info": {
   "codemirror_mode": {
    "name": "ipython",
    "version": 3
   },
   "file_extension": ".py",
   "mimetype": "text/x-python",
   "name": "python",
   "nbconvert_exporter": "python",
   "pygments_lexer": "ipython3",
   "version": "3.7.4"
  }
 },
 "nbformat": 4,
 "nbformat_minor": 2
}
